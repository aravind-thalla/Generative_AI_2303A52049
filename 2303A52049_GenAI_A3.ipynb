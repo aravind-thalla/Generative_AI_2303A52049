{
  "nbformat": 4,
  "nbformat_minor": 0,
  "metadata": {
    "colab": {
      "provenance": [],
      "include_colab_link": true
    },
    "kernelspec": {
      "name": "python3",
      "display_name": "Python 3"
    },
    "language_info": {
      "name": "python"
    }
  },
  "cells": [
    {
      "cell_type": "markdown",
      "metadata": {
        "id": "view-in-github",
        "colab_type": "text"
      },
      "source": [
        "<a href=\"https://colab.research.google.com/github/aravind-thalla/Generative_AI_2303A52049/blob/main/2303A52049_GenAI_A3.ipynb\" target=\"_parent\"><img src=\"https://colab.research.google.com/assets/colab-badge.svg\" alt=\"Open In Colab\"/></a>"
      ]
    },
    {
      "cell_type": "markdown",
      "source": [
        "#Question 1"
      ],
      "metadata": {
        "id": "mG-4VDiM8mwB"
      }
    },
    {
      "cell_type": "code",
      "source": [
        "import numpy as np\n"
      ],
      "metadata": {
        "id": "1VdUIi6UfXkr"
      },
      "execution_count": null,
      "outputs": []
    },
    {
      "cell_type": "code",
      "execution_count": null,
      "metadata": {
        "id": "ndIL2_sh0CTI"
      },
      "outputs": [],
      "source": [
        "#f(x) = 5x4 +3x2 +10\n"
      ]
    },
    {
      "cell_type": "code",
      "source": [
        "eta=0.001\n",
        "epochs=1000"
      ],
      "metadata": {
        "id": "dk0Ry6bb3_bu"
      },
      "execution_count": null,
      "outputs": []
    },
    {
      "cell_type": "code",
      "source": [
        "import random\n",
        "x = random.uniform(-10,10)\n",
        "print(x)"
      ],
      "metadata": {
        "colab": {
          "base_uri": "https://localhost:8080/"
        },
        "id": "obLgjTrW2BxY",
        "outputId": "010b1c59-e982-4d73-d8d2-531ce20d6431"
      },
      "execution_count": null,
      "outputs": [
        {
          "output_type": "stream",
          "name": "stdout",
          "text": [
            "-6.370192097867859\n"
          ]
        }
      ]
    },
    {
      "cell_type": "code",
      "source": [
        "for i in range(epochs):\n",
        "  grad = 20*x**3 + 6*x\n",
        "  delx = -eta*grad\n",
        "  x=x+delx"
      ],
      "metadata": {
        "id": "ozmMSjic5ML7"
      },
      "execution_count": null,
      "outputs": []
    },
    {
      "cell_type": "code",
      "source": [
        "round(x)"
      ],
      "metadata": {
        "colab": {
          "base_uri": "https://localhost:8080/"
        },
        "id": "mt1sNOCt5z_r",
        "outputId": "dabec49e-2be9-45e5-b516-12078459980e"
      },
      "execution_count": null,
      "outputs": [
        {
          "output_type": "execute_result",
          "data": {
            "text/plain": [
              "0"
            ]
          },
          "metadata": {},
          "execution_count": 105
        }
      ]
    },
    {
      "cell_type": "markdown",
      "source": [
        "#Question 2"
      ],
      "metadata": {
        "id": "pMaGNjr-8_13"
      }
    },
    {
      "cell_type": "code",
      "source": [
        "#f(x) = 3x2 +5e−y +10\n",
        "import math"
      ],
      "metadata": {
        "id": "vHY7qy8D50_v"
      },
      "execution_count": null,
      "outputs": []
    },
    {
      "cell_type": "code",
      "source": [
        "eta=0.001\n",
        "epochs = 1000\n",
        "x=random.uniform(-10,10)\n",
        "y=random.uniform(-10,10)\n",
        "for i in range(epochs):\n",
        "  grad_x=6*x\n",
        "  grad_y=-5*math.exp(-y)\n",
        "  delx=-eta*grad_x\n",
        "  dely=-eta*grad_y\n",
        "  x=x+delx\n",
        "  y=y+dely"
      ],
      "metadata": {
        "id": "8o05nJ5m9LP_"
      },
      "execution_count": null,
      "outputs": []
    },
    {
      "cell_type": "code",
      "source": [
        "print(round(x))\n",
        "print(round(y))"
      ],
      "metadata": {
        "colab": {
          "base_uri": "https://localhost:8080/"
        },
        "id": "0iE17YVy82iU",
        "outputId": "6b908bd6-ac9f-4cb2-e78a-a4c47fe8db4a"
      },
      "execution_count": null,
      "outputs": [
        {
          "output_type": "stream",
          "name": "stdout",
          "text": [
            "0\n",
            "6\n"
          ]
        }
      ]
    },
    {
      "cell_type": "markdown",
      "source": [
        "#Question 3"
      ],
      "metadata": {
        "id": "B4ZRHoos9Ctw"
      }
    },
    {
      "cell_type": "code",
      "source": [
        "#f(x) = 1/(1+e^-x)\n",
        "import math"
      ],
      "metadata": {
        "id": "NxaGUoDMBJVG"
      },
      "execution_count": null,
      "outputs": []
    },
    {
      "cell_type": "code",
      "source": [
        "eta=0.001\n",
        "epochs = 1000\n",
        "x=random.uniform(-10,10)\n",
        "for i in range(epochs):\n",
        "    z = 1 / (1 + math.exp(-x))\n",
        "    grad = z * (1 - z)\n",
        "    delx = -eta * grad\n",
        "    x = x + delx\n"
      ],
      "metadata": {
        "id": "uz36g4OoBJVH"
      },
      "execution_count": null,
      "outputs": []
    },
    {
      "cell_type": "code",
      "source": [
        "print(round(x))\n"
      ],
      "metadata": {
        "colab": {
          "base_uri": "https://localhost:8080/"
        },
        "outputId": "c3e12bb6-ed2a-4cc5-c07c-2090421657fa",
        "id": "iwXvtnE8BJVH"
      },
      "execution_count": null,
      "outputs": [
        {
          "output_type": "stream",
          "name": "stdout",
          "text": [
            "-2\n"
          ]
        }
      ]
    },
    {
      "cell_type": "markdown",
      "source": [
        "#Question 4"
      ],
      "metadata": {
        "id": "vXn1E1ZjNlrA"
      }
    },
    {
      "cell_type": "code",
      "source": [
        "# y= mx+c\n"
      ],
      "metadata": {
        "id": "ukoLbvjkOWv9"
      },
      "execution_count": null,
      "outputs": []
    },
    {
      "cell_type": "code",
      "source": [
        "eta=0.001\n",
        "epochs = 1000\n",
        "m=random.uniform(-10,10)\n",
        "c=random.uniform(-10,10)\n",
        "x=2\n",
        "ep=0.5\n",
        "se=0"
      ],
      "metadata": {
        "id": "Shi66iujO3yi"
      },
      "execution_count": null,
      "outputs": []
    },
    {
      "cell_type": "code",
      "source": [
        "for i in range(epochs):\n",
        "  grad_x=x\n",
        "  grad_y=1\n",
        "  delx=-eta*grad_x\n",
        "  dely=-eta*grad_y\n",
        "  m=m+delx\n",
        "  c=c+dely\n",
        "  y=m*x+c\n",
        "  se=min(se,(y-ep)**2)\n"
      ],
      "metadata": {
        "id": "oSOBVV9mOWv-"
      },
      "execution_count": null,
      "outputs": []
    },
    {
      "cell_type": "code",
      "source": [
        "print(np.round(m))\n",
        "print(np.round(c))"
      ],
      "metadata": {
        "colab": {
          "base_uri": "https://localhost:8080/"
        },
        "outputId": "8c1e6f2f-f8d7-4eb7-d1f2-699ab1f26fdc",
        "id": "hYT_9ysSOWv-"
      },
      "execution_count": null,
      "outputs": [
        {
          "output_type": "stream",
          "name": "stdout",
          "text": [
            "-7.0\n",
            "0.0\n"
          ]
        }
      ]
    },
    {
      "cell_type": "code",
      "source": [
        "print(se)"
      ],
      "metadata": {
        "colab": {
          "base_uri": "https://localhost:8080/"
        },
        "id": "-MZzokEgVK5E",
        "outputId": "331d4211-ef77-4ce8-d483-0abd6a79247e"
      },
      "execution_count": null,
      "outputs": [
        {
          "output_type": "stream",
          "name": "stdout",
          "text": [
            "0\n"
          ]
        }
      ]
    }
  ]
}