{
  "nbformat": 4,
  "nbformat_minor": 0,
  "metadata": {
    "colab": {
      "provenance": []
    },
    "kernelspec": {
      "name": "python3",
      "display_name": "Python 3"
    },
    "language_info": {
      "name": "python"
    }
  },
  "cells": [
    {
      "cell_type": "code",
      "execution_count": null,
      "metadata": {
        "id": "76lF6HG5dIFs"
      },
      "outputs": [],
      "source": [
        "\n",
        "Y_act=[10,20,30,40,50]\n",
        "Y_pred=[10.2,20.5,30.3,40.8,50.6]\n",
        "n=len(Y_act)\n",
        "MSE = 0\n",
        "MAE = 0\n",
        "RMSE=  0"
      ]
    },
    {
      "cell_type": "code",
      "source": [
        "for i in range(n):\n",
        "    MSE = MSE + (Y_act[i] - Y_pred[i])**2\n",
        "    MAE = MAE + abs(Y_act[i] - Y_pred[i])\n",
        "    MSE = MSE/n\n",
        "    MAE = MAE/n\n",
        "    RMSE=MSE**0.5"
      ],
      "metadata": {
        "id": "vYwfpPJ9dNCV"
      },
      "execution_count": null,
      "outputs": []
    },
    {
      "cell_type": "code",
      "source": [
        "print(\"MSE = \",MSE)\n",
        "print(\"MAE = \",MAE)\n",
        "print(\"RMSE = \",RMSE)"
      ],
      "metadata": {
        "colab": {
          "base_uri": "https://localhost:8080/"
        },
        "id": "FmEe-3yadRvb",
        "outputId": "0189cbd7-d4f3-49f2-df85-30f2f9558ba3"
      },
      "execution_count": null,
      "outputs": [
        {
          "output_type": "stream",
          "name": "stdout",
          "text": [
            "MSE =  0.09873280000000016\n",
            "MAE =  0.15526400000000018\n",
            "RMSE =  0.3142177588870498\n"
          ]
        }
      ]
    },
    {
      "cell_type": "markdown",
      "source": [
        "2nd"
      ],
      "metadata": {
        "id": "TWKp327ldace"
      }
    },
    {
      "cell_type": "code",
      "source": [
        "import numpy as np\n",
        "yact=[0,0,0,0,0,1,1,1,1,1,1,2,2,2,2,2]\n",
        "ypred=[0,0,1,1,2,2,0,1,1,1,2,0,2,1,1,2]\n",
        "\n",
        "l=[]\n",
        "for i in range(len(yact)):\n",
        "    l.append([yact[i],ypred[i]])\n",
        "print(l)\n",
        "\n",
        "[[0, 0], [0, 0], [0, 1], [0, 1], [0, 2], [1, 2], [1, 0], [1, 1], [1, 1], [1, 1], [1, 2], [2, 0], [2, 2], [2, 1], [2, 1], [2, 2]]\n",
        "\n",
        "cm=[[l.count([0,0]),l.count([0,1]),l.count([0,2])],[l.count([1,0]),l.count([1,1]),l.count([1,2])],[l.count([2,0]),l.count([2,1]),l.count([2,2])]]\n",
        "print(\"confusionmatrix of above data is:\\n\",np.array(cm))\n",
        "\n",
        "\n",
        "import numpy as np\n",
        "\n",
        "def calculate_precision_recall_f1(cm):\n",
        "    num_classes = len(cm)\n",
        "    precision = [0] * num_classes\n",
        "    recall = [0] * num_classes\n",
        "    f1_score = [0] * num_classes\n",
        "    tp_mat = []\n",
        "    fp_mat = []\n",
        "    fn_mat = []\n",
        "    tn_mat = []\n",
        "\n",
        "\n",
        "\n",
        "num_classes = len(cm)\n",
        "\n",
        "\n",
        "accuracy = 0\n",
        "precision = [0] * num_classes\n",
        "recall = [0] * num_classes\n",
        "f1_score = [0] * num_classes\n",
        "\n",
        "\n",
        "\n",
        "total_instances = sum(sum(row) for row in cm)\n",
        "\n",
        "for i in range(num_classes):\n",
        "\n",
        "\n",
        "    TP = cm[i][i]\n",
        "\n",
        "    FP = sum(cm[row][i] for row in range(num_classes)) - TP\n",
        "\n",
        "    FN = sum(cm[i]) - TP\n",
        "    TN = total_instances - (TP + FP + FN)\n",
        "\n",
        "\n",
        "    precision[i] = TP / (TP + FP) if TP + FP != 0 else 0\n",
        "    recall[i] = TP / (TP + FN) if TP + FN != 0 else 0\n",
        "    f1_score[i] = 2 * (precision[i] * recall[i]) / (precision[i] + recall[i]) if precision[i] + recall[i] != 0 else 0\n",
        "\n",
        "\n",
        "    accuracy += TP\n",
        "\n",
        "accuracy /= total_instances\n",
        "\n",
        "\n",
        "print(\"Accuracy:\", accuracy)\n",
        "for i in range(num_classes):\n",
        "    print(f\"Class {i}:\")\n",
        "    print(f\"  Precision: {precision[i]}\")\n",
        "    print(f\"  Recall: {recall[i]}\")\n",
        "    print(f\"  F1 Score: {f1_score[i]}\")"
      ],
      "metadata": {
        "colab": {
          "base_uri": "https://localhost:8080/"
        },
        "id": "9Xw8kHTldRsC",
        "outputId": "c430a904-f21c-47ed-8dc2-5a0dc381abf0"
      },
      "execution_count": null,
      "outputs": [
        {
          "output_type": "stream",
          "name": "stdout",
          "text": [
            "[[0, 0], [0, 0], [0, 1], [0, 1], [0, 2], [1, 2], [1, 0], [1, 1], [1, 1], [1, 1], [1, 2], [2, 0], [2, 2], [2, 1], [2, 1], [2, 2]]\n",
            "confusionmatrix of above data is:\n",
            " [[2 2 1]\n",
            " [1 3 2]\n",
            " [1 2 2]]\n",
            "Accuracy: 0.4375\n",
            "Class 0:\n",
            "  Precision: 0.5\n",
            "  Recall: 0.4\n",
            "  F1 Score: 0.4444444444444445\n",
            "Class 1:\n",
            "  Precision: 0.42857142857142855\n",
            "  Recall: 0.5\n",
            "  F1 Score: 0.4615384615384615\n",
            "Class 2:\n",
            "  Precision: 0.4\n",
            "  Recall: 0.4\n",
            "  F1 Score: 0.4000000000000001\n"
          ]
        }
      ]
    }
  ]
}